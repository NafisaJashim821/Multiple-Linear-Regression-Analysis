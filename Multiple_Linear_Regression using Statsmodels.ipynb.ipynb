{
 "cells": [
  {
   "cell_type": "markdown",
   "id": "05e154b6-a706-4fbb-a605-8198b742ab08",
   "metadata": {},
   "source": [
    "### Multiple Linear Regression model to analyze and predict product sales based on advertising budgets in TV, Radio, and Newspaper mediums using Python."
   ]
  },
  {
   "cell_type": "code",
   "execution_count": null,
   "id": "807b551d-c37f-4600-b4dc-e2b144da7163",
   "metadata": {},
   "outputs": [],
   "source": [
    "import numpy as np\n",
    "import pandas as pd\n",
    "import matplotlib.pyplot as plt\n",
    "import seaborn as sns"
   ]
  },
  {
   "cell_type": "code",
   "execution_count": null,
   "id": "937e4ead-43ca-48ad-bf65-11f949df391b",
   "metadata": {},
   "outputs": [],
   "source": [
    "df=pd.read_csv(\"Advertising.csv\")"
   ]
  },
  {
   "cell_type": "code",
   "execution_count": null,
   "id": "815252dd-f5a2-488d-878f-95d02b0d5cd4",
   "metadata": {},
   "outputs": [],
   "source": [
    "df"
   ]
  },
  {
   "cell_type": "code",
   "execution_count": null,
   "id": "cb91a915-1fde-4202-a516-a3cbc92b99dd",
   "metadata": {},
   "outputs": [],
   "source": [
    "fig, axes = plt.subplots(nrows = 1, ncols = 3, figsize = (16,6))\n",
    "\n",
    "axes[0].scatter(df['TV'], df['sales'])\n",
    "axes[0].set_ylabel(\"Sales\")\n",
    "axes[0].set_title(\"TV Spend\")\n",
    "\n",
    "axes[1].scatter(df['radio'], df['sales'])\n",
    "axes[1].set_ylabel(\"Sales\")\n",
    "axes[1].set_title(\"Radio Spend\")\n",
    "\n",
    "axes[2].scatter(df['newspaper'], df['sales'])\n",
    "axes[2].set_ylabel(\"Sales\")\n",
    "axes[2].set_title(\"Newspaper Spend\")"
   ]
  },
  {
   "cell_type": "code",
   "execution_count": null,
   "id": "d0bad381-9ba7-49af-9fe7-cc5f5a031d93",
   "metadata": {},
   "outputs": [],
   "source": [
    "sns.pairplot(df)"
   ]
  },
  {
   "cell_type": "markdown",
   "id": "78e71a13-d30a-42cb-8d9f-4a3712fec5ee",
   "metadata": {},
   "source": [
    "## Statistical Approach:"
   ]
  },
  {
   "cell_type": "code",
   "execution_count": null,
   "id": "2691fde1-59ca-4642-8012-82c0d78d3f22",
   "metadata": {},
   "outputs": [],
   "source": [
    "#import statsmodels.api as sm"
   ]
  },
  {
   "cell_type": "code",
   "execution_count": 15,
   "id": "7552a9e7-3cb9-45a2-b905-4b7c2a0435ae",
   "metadata": {},
   "outputs": [],
   "source": [
    "import statsmodels.formula.api as smf"
   ]
  },
  {
   "cell_type": "code",
   "execution_count": 16,
   "id": "9a75852c-c5c3-454a-b56c-15969c5aa44b",
   "metadata": {},
   "outputs": [],
   "source": [
    "est = smf.ols(formula = 'sales ~ TV + radio + newspaper', data = df).fit()  \n",
    "#OLS-Ordinary Least Squares"
   ]
  },
  {
   "cell_type": "code",
   "execution_count": 17,
   "id": "49d72c70-1fe1-4543-bcd1-8e0750d56bd3",
   "metadata": {},
   "outputs": [
    {
     "data": {
      "text/html": [
       "<table class=\"simpletable\">\n",
       "<caption>OLS Regression Results</caption>\n",
       "<tr>\n",
       "  <th>Dep. Variable:</th>          <td>sales</td>      <th>  R-squared:         </th> <td>   0.897</td>\n",
       "</tr>\n",
       "<tr>\n",
       "  <th>Model:</th>                   <td>OLS</td>       <th>  Adj. R-squared:    </th> <td>   0.896</td>\n",
       "</tr>\n",
       "<tr>\n",
       "  <th>Method:</th>             <td>Least Squares</td>  <th>  F-statistic:       </th> <td>   570.3</td>\n",
       "</tr>\n",
       "<tr>\n",
       "  <th>Date:</th>             <td>Sat, 21 Jun 2025</td> <th>  Prob (F-statistic):</th> <td>1.58e-96</td>\n",
       "</tr>\n",
       "<tr>\n",
       "  <th>Time:</th>                 <td>22:47:15</td>     <th>  Log-Likelihood:    </th> <td> -3149.3</td>\n",
       "</tr>\n",
       "<tr>\n",
       "  <th>No. Observations:</th>      <td>   200</td>      <th>  AIC:               </th> <td>   6307.</td>\n",
       "</tr>\n",
       "<tr>\n",
       "  <th>Df Residuals:</th>          <td>   196</td>      <th>  BIC:               </th> <td>   6320.</td>\n",
       "</tr>\n",
       "<tr>\n",
       "  <th>Df Model:</th>              <td>     3</td>      <th>                     </th>     <td> </td>   \n",
       "</tr>\n",
       "<tr>\n",
       "  <th>Covariance Type:</th>      <td>nonrobust</td>    <th>                     </th>     <td> </td>   \n",
       "</tr>\n",
       "</table>\n",
       "<table class=\"simpletable\">\n",
       "<tr>\n",
       "      <td></td>         <th>coef</th>     <th>std err</th>      <th>t</th>      <th>P>|t|</th>  <th>[0.025</th>    <th>0.975]</th>  \n",
       "</tr>\n",
       "<tr>\n",
       "  <th>Intercept</th> <td> 2.939e+06</td> <td> 3.12e+05</td> <td>    9.422</td> <td> 0.000</td> <td> 2.32e+06</td> <td> 3.55e+06</td>\n",
       "</tr>\n",
       "<tr>\n",
       "  <th>TV</th>        <td> 4.576e+04</td> <td> 1394.897</td> <td>   32.809</td> <td> 0.000</td> <td>  4.3e+04</td> <td> 4.85e+04</td>\n",
       "</tr>\n",
       "<tr>\n",
       "  <th>radio</th>     <td> 1.885e+05</td> <td> 8611.234</td> <td>   21.893</td> <td> 0.000</td> <td> 1.72e+05</td> <td> 2.06e+05</td>\n",
       "</tr>\n",
       "<tr>\n",
       "  <th>newspaper</th> <td>-1037.4930</td> <td> 5871.010</td> <td>   -0.177</td> <td> 0.860</td> <td>-1.26e+04</td> <td> 1.05e+04</td>\n",
       "</tr>\n",
       "</table>\n",
       "<table class=\"simpletable\">\n",
       "<tr>\n",
       "  <th>Omnibus:</th>       <td>60.414</td> <th>  Durbin-Watson:     </th> <td>   2.084</td>\n",
       "</tr>\n",
       "<tr>\n",
       "  <th>Prob(Omnibus):</th> <td> 0.000</td> <th>  Jarque-Bera (JB):  </th> <td> 151.241</td>\n",
       "</tr>\n",
       "<tr>\n",
       "  <th>Skew:</th>          <td>-1.327</td> <th>  Prob(JB):          </th> <td>1.44e-33</td>\n",
       "</tr>\n",
       "<tr>\n",
       "  <th>Kurtosis:</th>      <td> 6.332</td> <th>  Cond. No.          </th> <td>    454.</td>\n",
       "</tr>\n",
       "</table><br/><br/>Notes:<br/>[1] Standard Errors assume that the covariance matrix of the errors is correctly specified."
      ],
      "text/latex": [
       "\\begin{center}\n",
       "\\begin{tabular}{lclc}\n",
       "\\toprule\n",
       "\\textbf{Dep. Variable:}    &      sales       & \\textbf{  R-squared:         } &     0.897   \\\\\n",
       "\\textbf{Model:}            &       OLS        & \\textbf{  Adj. R-squared:    } &     0.896   \\\\\n",
       "\\textbf{Method:}           &  Least Squares   & \\textbf{  F-statistic:       } &     570.3   \\\\\n",
       "\\textbf{Date:}             & Sat, 21 Jun 2025 & \\textbf{  Prob (F-statistic):} &  1.58e-96   \\\\\n",
       "\\textbf{Time:}             &     22:47:15     & \\textbf{  Log-Likelihood:    } &   -3149.3   \\\\\n",
       "\\textbf{No. Observations:} &         200      & \\textbf{  AIC:               } &     6307.   \\\\\n",
       "\\textbf{Df Residuals:}     &         196      & \\textbf{  BIC:               } &     6320.   \\\\\n",
       "\\textbf{Df Model:}         &           3      & \\textbf{                     } &             \\\\\n",
       "\\textbf{Covariance Type:}  &    nonrobust     & \\textbf{                     } &             \\\\\n",
       "\\bottomrule\n",
       "\\end{tabular}\n",
       "\\begin{tabular}{lcccccc}\n",
       "                   & \\textbf{coef} & \\textbf{std err} & \\textbf{t} & \\textbf{P$> |$t$|$} & \\textbf{[0.025} & \\textbf{0.975]}  \\\\\n",
       "\\midrule\n",
       "\\textbf{Intercept} &    2.939e+06  &     3.12e+05     &     9.422  &         0.000        &     2.32e+06    &     3.55e+06     \\\\\n",
       "\\textbf{TV}        &    4.576e+04  &     1394.897     &    32.809  &         0.000        &      4.3e+04    &     4.85e+04     \\\\\n",
       "\\textbf{radio}     &    1.885e+05  &     8611.234     &    21.893  &         0.000        &     1.72e+05    &     2.06e+05     \\\\\n",
       "\\textbf{newspaper} &   -1037.4930  &     5871.010     &    -0.177  &         0.860        &    -1.26e+04    &     1.05e+04     \\\\\n",
       "\\bottomrule\n",
       "\\end{tabular}\n",
       "\\begin{tabular}{lclc}\n",
       "\\textbf{Omnibus:}       & 60.414 & \\textbf{  Durbin-Watson:     } &    2.084  \\\\\n",
       "\\textbf{Prob(Omnibus):} &  0.000 & \\textbf{  Jarque-Bera (JB):  } &  151.241  \\\\\n",
       "\\textbf{Skew:}          & -1.327 & \\textbf{  Prob(JB):          } & 1.44e-33  \\\\\n",
       "\\textbf{Kurtosis:}      &  6.332 & \\textbf{  Cond. No.          } &     454.  \\\\\n",
       "\\bottomrule\n",
       "\\end{tabular}\n",
       "%\\caption{OLS Regression Results}\n",
       "\\end{center}\n",
       "\n",
       "Notes: \\newline\n",
       " [1] Standard Errors assume that the covariance matrix of the errors is correctly specified."
      ],
      "text/plain": [
       "<class 'statsmodels.iolib.summary.Summary'>\n",
       "\"\"\"\n",
       "                            OLS Regression Results                            \n",
       "==============================================================================\n",
       "Dep. Variable:                  sales   R-squared:                       0.897\n",
       "Model:                            OLS   Adj. R-squared:                  0.896\n",
       "Method:                 Least Squares   F-statistic:                     570.3\n",
       "Date:                Sat, 21 Jun 2025   Prob (F-statistic):           1.58e-96\n",
       "Time:                        22:47:15   Log-Likelihood:                -3149.3\n",
       "No. Observations:                 200   AIC:                             6307.\n",
       "Df Residuals:                     196   BIC:                             6320.\n",
       "Df Model:                           3                                         \n",
       "Covariance Type:            nonrobust                                         \n",
       "==============================================================================\n",
       "                 coef    std err          t      P>|t|      [0.025      0.975]\n",
       "------------------------------------------------------------------------------\n",
       "Intercept   2.939e+06   3.12e+05      9.422      0.000    2.32e+06    3.55e+06\n",
       "TV          4.576e+04   1394.897     32.809      0.000     4.3e+04    4.85e+04\n",
       "radio       1.885e+05   8611.234     21.893      0.000    1.72e+05    2.06e+05\n",
       "newspaper  -1037.4930   5871.010     -0.177      0.860   -1.26e+04    1.05e+04\n",
       "==============================================================================\n",
       "Omnibus:                       60.414   Durbin-Watson:                   2.084\n",
       "Prob(Omnibus):                  0.000   Jarque-Bera (JB):              151.241\n",
       "Skew:                          -1.327   Prob(JB):                     1.44e-33\n",
       "Kurtosis:                       6.332   Cond. No.                         454.\n",
       "==============================================================================\n",
       "\n",
       "Notes:\n",
       "[1] Standard Errors assume that the covariance matrix of the errors is correctly specified.\n",
       "\"\"\""
      ]
     },
     "execution_count": 17,
     "metadata": {},
     "output_type": "execute_result"
    }
   ],
   "source": [
    "est.summary()"
   ]
  },
  {
   "cell_type": "code",
   "execution_count": null,
   "id": "992d6c7e-1f30-4641-bbd7-c3df337f8e6c",
   "metadata": {},
   "outputs": [],
   "source": []
  }
 ],
 "metadata": {
  "kernelspec": {
   "display_name": "Python 3 (ipykernel)",
   "language": "python",
   "name": "python3"
  },
  "language_info": {
   "codemirror_mode": {
    "name": "ipython",
    "version": 3
   },
   "file_extension": ".py",
   "mimetype": "text/x-python",
   "name": "python",
   "nbconvert_exporter": "python",
   "pygments_lexer": "ipython3",
   "version": "3.12.2"
  }
 },
 "nbformat": 4,
 "nbformat_minor": 5
}
